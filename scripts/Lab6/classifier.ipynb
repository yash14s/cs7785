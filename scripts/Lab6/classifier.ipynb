{
 "cells": [
  {
   "cell_type": "code",
   "execution_count": 1,
   "id": "a7878152",
   "metadata": {},
   "outputs": [],
   "source": [
    "import cv2\n",
    "import sys\n",
    "import csv\n",
    "import time\n",
    "import numpy as np"
   ]
  },
  {
   "cell_type": "code",
   "execution_count": 2,
   "id": "16d8298a",
   "metadata": {},
   "outputs": [],
   "source": [
    "### Load training images and labels\n",
    "\n",
    "imageDirectory = './2022Fimgs/'\n",
    "\n",
    "with open(imageDirectory + 'train.txt', 'r') as f:\n",
    "    reader = csv.reader(f)\n",
    "    lines = list(reader)"
   ]
  },
  {
   "cell_type": "code",
   "execution_count": 3,
   "id": "cdf13b85",
   "metadata": {},
   "outputs": [],
   "source": [
    "# this line reads in all images listed in the file in GRAYSCALE, and resizes them to 33x25 pixels\n",
    "train = np.array([np.array(cv2.resize(cv2.imread(imageDirectory +lines[i][0]+\".png\",0),(33,25))) for i in range(len(lines))])"
   ]
  },
  {
   "cell_type": "code",
   "execution_count": 4,
   "id": "c8ddddb5",
   "metadata": {},
   "outputs": [],
   "source": [
    "# here we reshape each image into a long vector and ensure the data type is a float (which is what KNN wants)\n",
    "train_data = train.flatten().reshape(len(lines), 33*25)\n",
    "train_data = train_data.astype(np.float32)"
   ]
  },
  {
   "cell_type": "code",
   "execution_count": 5,
   "id": "ded54175",
   "metadata": {},
   "outputs": [],
   "source": [
    "# read in training labels\n",
    "train_labels = np.array([np.int32(lines[i][1]) for i in range(len(lines))])"
   ]
  },
  {
   "cell_type": "code",
   "execution_count": 6,
   "id": "540fd664",
   "metadata": {},
   "outputs": [
    {
     "data": {
      "text/plain": [
       "True"
      ]
     },
     "execution_count": 6,
     "metadata": {},
     "output_type": "execute_result"
    }
   ],
   "source": [
    "### Train classifier\n",
    "knn = cv2.ml.KNearest_create()\n",
    "knn.train(train_data, cv2.ml.ROW_SAMPLE, train_labels)"
   ]
  },
  {
   "cell_type": "code",
   "execution_count": 7,
   "id": "8c8c5e19",
   "metadata": {},
   "outputs": [
    {
     "name": "stderr",
     "output_type": "stream",
     "text": [
      "qt.qpa.plugin: Could not find the Qt platform plugin \"wayland\" in \"/home/yash/miniconda3/lib/python3.10/site-packages/cv2/qt/plugins\"\n"
     ]
    }
   ],
   "source": [
    "if(__debug__):\n",
    "\tTitle_images = 'Original Image'\n",
    "\tTitle_resized = 'Image Resized'\n",
    "\tcv2.namedWindow( Title_images, cv2.WINDOW_AUTOSIZE )"
   ]
  },
  {
   "cell_type": "code",
   "execution_count": 8,
   "id": "0a8d98b8",
   "metadata": {},
   "outputs": [],
   "source": [
    "imageDirectory = './2022Fimgs/'\n",
    "\n",
    "### Run test images\n",
    "with open(imageDirectory + 'test.txt', 'r') as f:\n",
    "    reader = csv.reader(f)\n",
    "    lines = list(reader)"
   ]
  },
  {
   "cell_type": "code",
   "execution_count": null,
   "id": "ce1d399e",
   "metadata": {},
   "outputs": [],
   "source": [
    "correct = 0.0\n",
    "confusion_matrix = np.zeros((6,6))\n",
    "\n",
    "k = 21\n",
    "\n",
    "for i in range(len(lines)):\n",
    "    original_img = cv2.imread(imageDirectory+lines[i][0]+\".png\",0)\n",
    "    test_img = np.array(cv2.resize(cv2.imread(imageDirectory+lines[i][0]+\".png\",0),(33,25)))\n",
    "    if(__debug__):\n",
    "        cv2.imshow(Title_images, original_img)\n",
    "        cv2.imshow(Title_resized, test_img)\n",
    "        key = cv2.waitKey()\n",
    "        if key==27:    # Esc key to stop\n",
    "            break\n",
    "    test_img = test_img.flatten().reshape(1, 33*25)\n",
    "    test_img = test_img.astype(np.float32)\n",
    "\n",
    "    test_label = np.int32(lines[i][1])\n",
    "\n",
    "    ret, results, neighbours, dist = knn.findNearest(test_img, k)\n",
    "\n",
    "    if test_label == ret:\n",
    "        print(str(lines[i][0]) + \" Correct, \" + str(ret))\n",
    "        correct += 1\n",
    "        confusion_matrix[np.int32(ret)][np.int32(ret)] += 1\n",
    "    else:\n",
    "        confusion_matrix[test_label][np.int32(ret)] += 1\n",
    "        \n",
    "        print(str(lines[i][0]) + \" Wrong, \" + str(test_label) + \" classified as \" + str(ret))\n",
    "        print(\"\\tneighbours: \" + str(neighbours))\n",
    "        print(\"\\tdistances: \" + str(dist))"
   ]
  },
  {
   "cell_type": "code",
   "execution_count": null,
   "id": "f471ff49",
   "metadata": {},
   "outputs": [],
   "source": [
    "print(\"\\n\\nTotal accuracy: \" + str(correct/len(lines)))\n",
    "print(confusion_matrix)"
   ]
  },
  {
   "cell_type": "code",
   "execution_count": null,
   "id": "d526dacc",
   "metadata": {},
   "outputs": [],
   "source": []
  }
 ],
 "metadata": {
  "kernelspec": {
   "display_name": "Python 3 (ipykernel)",
   "language": "python",
   "name": "python3"
  },
  "language_info": {
   "codemirror_mode": {
    "name": "ipython",
    "version": 3
   },
   "file_extension": ".py",
   "mimetype": "text/x-python",
   "name": "python",
   "nbconvert_exporter": "python",
   "pygments_lexer": "ipython3",
   "version": "3.10.8"
  }
 },
 "nbformat": 4,
 "nbformat_minor": 5
}
